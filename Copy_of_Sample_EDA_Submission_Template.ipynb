{
  "nbformat": 4,
  "nbformat_minor": 0,
  "metadata": {
    "colab": {
      "private_outputs": true,
      "provenance": [],
      "collapsed_sections": [
        "vncDsAP0Gaoa",
        "FJNUwmbgGyua",
        "yQaldy8SH6Dl",
        "PH-0ReGfmX4f",
        "mDgbUHAGgjLW",
        "O_i_v8NEhb9l",
        "Y3lxredqlCYt",
        "3RnN4peoiCZX",
        "x71ZqKXriCWQ",
        "7hBIi_osiCS2",
        "JlHwYmJAmNHm",
        "35m5QtbWiB9F",
        "PoPl-ycgm1ru",
        "H0kj-8xxnORC",
        "nA9Y7ga8ng1Z",
        "PBTbrJXOngz2",
        "u3PMJOP6ngxN",
        "bKJF3rekwFvQ",
        "MSa1f5Uengrz",
        "GF8Ens_Soomf",
        "TTe8dof0IZli",
        "BXfgP1s4I1hf",
        "gCX9965dhzqZ"
      ],
      "include_colab_link": true
    },
    "kernelspec": {
      "name": "python3",
      "display_name": "Python 3"
    },
    "language_info": {
      "name": "python"
    }
  },
  "cells": [
    {
      "cell_type": "markdown",
      "metadata": {
        "id": "view-in-github",
        "colab_type": "text"
      },
      "source": [
        "<a href=\"https://colab.research.google.com/github/Jay-7707/DS-AI-ML-Project/blob/main/Copy_of_Sample_EDA_Submission_Template.ipynb\" target=\"_parent\"><img src=\"https://colab.research.google.com/assets/colab-badge.svg\" alt=\"Open In Colab\"/></a>"
      ]
    },
    {
      "cell_type": "markdown",
      "source": [
        "# **Project Name**    - Netflix Movies and TV Shows Clustering\n",
        "\n"
      ],
      "metadata": {
        "id": "vncDsAP0Gaoa"
      }
    },
    {
      "cell_type": "markdown",
      "source": [
        ":##### **Project Type**    - EDA\n",
        "##### **Contribution**    - Individual\n",
        "##### **Team Member 1 - BRIJESH JANGHEL**\n",
        "##### **Team Member 2 - N/A\n",
        "##### **Team Member 3 - N/A\n",
        "##### **Team Member 4 - N/A"
      ],
      "metadata": {
        "id": "beRrZCGUAJYm"
      }
    },
    {
      "cell_type": "markdown",
      "source": [
        "# **Project Summary -**"
      ],
      "metadata": {
        "id": "FJNUwmbgGyua"
      }
    },
    {
      "cell_type": "markdown",
      "source": [
        "Netflix is one of the world's leading streaming platforms, offering a vast library of movies and TV shows across multiple genres, languages, and regions. With thousands of titles being added regularly, categorizing and recommending content efficiently is crucial for enhancing user experience.\n",
        "\n",
        "This project aims to cluster Netflix movies and TV shows based on their attributes such as genre, director, cast, country of origin, release year, and description. By applying unsupervised machine learning techniques, we can identify natural groupings within the dataset, which can help in:\n",
        "\n",
        "Content Recommendation: Improving personalized suggestions by grouping similar titles.\n",
        "\n",
        "Market Analysis: Understanding content distribution across different regions and genres.\n",
        "\n",
        "Trend Identification: Detecting patterns in content releases over time.\n",
        "\n",
        "Anomaly Detection: Finding outliers or unusual entries in the dataset."
      ],
      "metadata": {
        "id": "F6v_1wHtG2nS"
      }
    },
    {
      "cell_type": "markdown",
      "source": [
        "# **Problem Statement**\n"
      ],
      "metadata": {
        "id": "yQaldy8SH6Dl"
      }
    },
    {
      "cell_type": "markdown",
      "source": [
        "**Netflix's vast and diverse content library lacks an automated, data-driven method to categorize movies and TV shows effectively. Manual tagging is inefficient and may miss hidden patterns in genres, themes, and audience preferences. This project aims to cluster Netflix content using unsupervised machine learning to improve content organization, recommendations, and trend analysis.**"
      ],
      "metadata": {
        "id": "DpeJGUA3kjGy"
      }
    },
    {
      "cell_type": "markdown",
      "source": [
        "#### **Define Your Business Objective?**"
      ],
      "metadata": {
        "id": "PH-0ReGfmX4f"
      }
    },
    {
      "cell_type": "markdown",
      "source": [
        "Enhance Recommendations: Group similar titles to improve personalized suggestions.\n",
        "\n",
        "Optimize Content Management: Automate genre/category tagging for better searchability.\n",
        "\n",
        "Identify Trends: Analyze clusters to uncover regional, temporal, or genre-based insights.\n",
        "\n",
        "Detect Anomalies: Flag misclassified or outlier content for metadata correction."
      ],
      "metadata": {
        "id": "PhDvGCAqmjP1"
      }
    },
    {
      "cell_type": "markdown",
      "source": [
        "# **General Guidelines** : -  "
      ],
      "metadata": {
        "id": "mDgbUHAGgjLW"
      }
    },
    {
      "cell_type": "markdown",
      "source": [
        "1.   Well-structured, formatted, and commented code is required.\n",
        "2.   Exception Handling, Production Grade Code & Deployment Ready Code will be a plus. Those students will be awarded some additional credits.\n",
        "     \n",
        "     The additional credits will have advantages over other students during Star Student selection.\n",
        "       \n",
        "             [ Note: - Deployment Ready Code is defined as, the whole .ipynb notebook should be executable in one go\n",
        "                       without a single error logged. ]\n",
        "\n",
        "3.   Each and every logic should have proper comments.\n",
        "4. You may add as many number of charts you want. Make Sure for each and every chart the following format should be answered.\n",
        "        \n",
        "\n",
        "```\n",
        "# Chart visualization code\n",
        "```\n",
        "            \n",
        "\n",
        "*   Why did you pick the specific chart?\n",
        "*   What is/are the insight(s) found from the chart?\n",
        "* Will the gained insights help creating a positive business impact?\n",
        "Are there any insights that lead to negative growth? Justify with specific reason.\n",
        "\n",
        "5. You have to create at least 20 logical & meaningful charts having important insights.\n",
        "\n",
        "\n",
        "[ Hints : - Do the Vizualization in  a structured way while following \"UBM\" Rule.\n",
        "\n",
        "U - Univariate Analysis,\n",
        "\n",
        "B - Bivariate Analysis (Numerical - Categorical, Numerical - Numerical, Categorical - Categorical)\n",
        "\n",
        "M - Multivariate Analysis\n",
        " ]\n",
        "\n",
        "\n",
        "\n"
      ],
      "metadata": {
        "id": "ZrxVaUj-hHfC"
      }
    },
    {
      "cell_type": "markdown",
      "source": [
        "# ***Let's Begin !***"
      ],
      "metadata": {
        "id": "O_i_v8NEhb9l"
      }
    },
    {
      "cell_type": "markdown",
      "source": [
        "## ***1. Know Your Data***"
      ],
      "metadata": {
        "id": "HhfV-JJviCcP"
      }
    },
    {
      "cell_type": "markdown",
      "source": [
        "### Import Libraries"
      ],
      "metadata": {
        "id": "Y3lxredqlCYt"
      }
    },
    {
      "cell_type": "code",
      "source": [
        "import pandas as pd\n",
        "import numpy as np\n",
        "import matplotlib.pyplot as plt\n",
        "import seaborn as sns"
      ],
      "metadata": {
        "id": "M8Vqi-pPk-HR"
      },
      "execution_count": null,
      "outputs": []
    },
    {
      "cell_type": "markdown",
      "source": [
        "### Dataset Loading"
      ],
      "metadata": {
        "id": "3RnN4peoiCZX"
      }
    },
    {
      "cell_type": "code",
      "source": [
        "# Load Dataset\n",
        "df = pd.read_csv('NETFLIX MOVIES AND TV SHOWS CLUSTERING.csv')"
      ],
      "metadata": {
        "id": "4CkvbW_SlZ_R"
      },
      "execution_count": null,
      "outputs": []
    },
    {
      "cell_type": "markdown",
      "source": [
        "### Dataset First View"
      ],
      "metadata": {
        "id": "x71ZqKXriCWQ"
      }
    },
    {
      "cell_type": "code",
      "source": [
        "# Display first 5 rows\n",
        "df.head()"
      ],
      "metadata": {
        "id": "LWNFOSvLl09H"
      },
      "execution_count": null,
      "outputs": []
    },
    {
      "cell_type": "markdown",
      "source": [
        "### Dataset Rows & Columns count"
      ],
      "metadata": {
        "id": "7hBIi_osiCS2"
      }
    },
    {
      "cell_type": "code",
      "source": [
        "# Shape of dataset\n",
        "print(f\"Rows: {df.shape[0]}, Columns: {df.shape[1]}\")"
      ],
      "metadata": {
        "id": "Kllu7SJgmLij"
      },
      "execution_count": null,
      "outputs": []
    },
    {
      "cell_type": "markdown",
      "source": [
        "### Dataset Information"
      ],
      "metadata": {
        "id": "JlHwYmJAmNHm"
      }
    },
    {
      "cell_type": "code",
      "source": [
        "# Summary of data types and non-null counts\n",
        "df.info()"
      ],
      "metadata": {
        "id": "e9hRXRi6meOf"
      },
      "execution_count": null,
      "outputs": []
    },
    {
      "cell_type": "markdown",
      "source": [
        "#### Duplicate Values"
      ],
      "metadata": {
        "id": "35m5QtbWiB9F"
      }
    },
    {
      "cell_type": "code",
      "source": [
        "# Check for duplicates\n",
        "print(f\"Duplicate Rows: {df.duplicated().sum()}\")"
      ],
      "metadata": {
        "id": "1sLdpKYkmox0"
      },
      "execution_count": null,
      "outputs": []
    },
    {
      "cell_type": "markdown",
      "source": [
        "#### Missing Values/Null Values"
      ],
      "metadata": {
        "id": "PoPl-ycgm1ru"
      }
    },
    {
      "cell_type": "code",
      "source": [
        "# Null values per column\n",
        "print(df.isnull().sum())"
      ],
      "metadata": {
        "id": "GgHWkxvamxVg"
      },
      "execution_count": null,
      "outputs": []
    },
    {
      "cell_type": "code",
      "source": [
        "# Heatmap of missing values\n",
        "sns.heatmap(df.isnull(), cbar=False, cmap='viridis')\n",
        "plt.title(\"Missing Values Heatmap\")"
      ],
      "metadata": {
        "id": "3q5wnI3om9sJ"
      },
      "execution_count": null,
      "outputs": []
    },
    {
      "cell_type": "markdown",
      "source": [
        "### What did you know about your dataset?"
      ],
      "metadata": {
        "id": "H0kj-8xxnORC"
      }
    },
    {
      "cell_type": "markdown",
      "source": [
        "Size: 7,788 entries × 12 features.\n",
        "\n",
        "Missing Data:\n",
        "\n",
        "Critical columns like director (30% nulls) need imputation.\n",
        "\n",
        "Minimal nulls in rating (7 rows) → Can be dropped.\n",
        "\n",
        "Data Types:\n",
        "\n",
        "date_added needs conversion to datetime.\n",
        "\n",
        "duration is mixed (Seasons vs. Minutes) → Requires standardization.\n",
        "\n",
        "No Duplicates: Clean dataset in terms of row uniqueness.\n",
        "\n",
        "Business Implications\n",
        "Content Gaps: Missing director/country data may affect clustering accuracy.\n",
        "\n",
        "Feature Engineering Needed:\n",
        "\n",
        "Extract primary_genre from listed_in.\n",
        "\n",
        "Split duration into numeric features (Seasons vs. Minutes)."
      ],
      "metadata": {
        "id": "gfoNAAC-nUe_"
      }
    },
    {
      "cell_type": "markdown",
      "source": [
        "## ***2. Understanding Your Variables***"
      ],
      "metadata": {
        "id": "nA9Y7ga8ng1Z"
      }
    },
    {
      "cell_type": "code",
      "source": [
        "# List all columns\n",
        "print(df.columns.tolist())"
      ],
      "metadata": {
        "id": "j7xfkqrt5Ag5"
      },
      "execution_count": null,
      "outputs": []
    },
    {
      "cell_type": "code",
      "source": [
        "# Statistical summary for numerical columns\n",
        "print(df.describe())"
      ],
      "metadata": {
        "id": "DnOaZdaE5Q5t"
      },
      "execution_count": null,
      "outputs": []
    },
    {
      "cell_type": "markdown",
      "source": [
        "### Variables Description"
      ],
      "metadata": {
        "id": "PBTbrJXOngz2"
      }
    },
    {
      "cell_type": "markdown",
      "source": [
        "**Variable -- Type -- Description**\n",
        "\n",
        "show_id --\tCategorical --\tUnique identifier for each title\n",
        "\n",
        "type --\tCategorical -- Content type: Movie or TV Show\n",
        "\n",
        "title --\tText -- Name of the movie/show\n",
        "\n",
        "director --\tText -- Director(s) of the content (30% nulls)\n",
        "\n",
        "cast -- Text -- Main actors/actresses (10% nulls)\n",
        "\n",
        "country -- Categorical -- Production country (10% nulls)\n",
        "\n",
        "date_added -- DateTime -- When content was added to Netflix\n",
        "\n",
        "release_year -- Numerical --\tYear content was originally released\n",
        "\n",
        "rating -- Categorical -- Maturity rating (TV-MA, PG-13, etc.)\n",
        "\n",
        "duration -- Mixed -- For movies: minutes; For shows: seasons\n",
        "\n",
        "listed_in --\tText --\tGenres/categories (comma-separated)\n",
        "\n",
        "description\t-- Text --\tBrief summary of the content"
      ],
      "metadata": {
        "id": "aJV4KIxSnxay"
      }
    },
    {
      "cell_type": "markdown",
      "source": [
        "### Check Unique Values for each variable."
      ],
      "metadata": {
        "id": "u3PMJOP6ngxN"
      }
    },
    {
      "cell_type": "code",
      "source": [
        "# Check unique values count for each column\n",
        "for col in df.columns:\n",
        "    print(f\"{col}: {df[col].nunique()} unique values\")"
      ],
      "metadata": {
        "id": "zms12Yq5n-jE"
      },
      "execution_count": null,
      "outputs": []
    },
    {
      "cell_type": "markdown",
      "source": [
        "## 3. ***Data Wrangling***"
      ],
      "metadata": {
        "id": "dauF4eBmngu3"
      }
    },
    {
      "cell_type": "markdown",
      "source": [
        "### Data Wrangling Code"
      ],
      "metadata": {
        "id": "bKJF3rekwFvQ"
      }
    },
    {
      "cell_type": "code",
      "source": [
        "# 1. Handle Missing Values\n",
        "df['director'].fillna('Unknown', inplace=True)\n",
        "df['cast'].fillna('Unknown', inplace=True)\n",
        "df['country'].fillna('Unknown', inplace=True)\n",
        "df.dropna(subset=['rating', 'date_added'], inplace=True)  # Only 17 rows affected\n",
        "\n",
        "# 2. Convert Data Types\n",
        "df['date_added'] = pd.to_datetime(df['date_added'], errors='coerce')\n",
        "\n",
        "# 3. Feature Engineering\n",
        "# Duration standardization\n",
        "df['duration_mins'] = df['duration'].apply(\n",
        "    lambda x: int(x.split()[0]) if 'min' in x else 0\n",
        ")\n",
        "df['seasons'] = df['duration'].apply(\n",
        "    lambda x: int(x.split()[0]) if 'Season' in x else 0\n",
        ")\n",
        "\n",
        "# Extract primary genre\n",
        "df['primary_genre'] = df['listed_in'].str.split(',').str[0].str.strip()\n",
        "\n",
        "# Extract year/month added\n",
        "df['year_added'] = df['date_added'].dt.year\n",
        "df['month_added'] = df['date_added'].dt.month_name()\n",
        "\n",
        "# 4. Create useful categorical aggregations\n",
        "# Top countries (group others)\n",
        "top_countries = df['country'].value_counts().head(10).index\n",
        "df['country_grouped'] = np.where(\n",
        "    df['country'].isin(top_countries), df['country'], 'Other'\n",
        ")\n",
        "\n",
        "# Simplify ratings\n",
        "rating_map = {\n",
        "    'TV-MA': 'Adult',\n",
        "    'TV-14': 'Teen',\n",
        "    'TV-PG': 'Teen',\n",
        "    'R': 'Adult',\n",
        "    'PG-13': 'Teen',\n",
        "    'NR': 'Unrated',\n",
        "    'PG': 'General'\n",
        "}\n",
        "df['rating_group'] = df['rating'].map(rating_map).fillna('Other')\n",
        "\n",
        "# 5. Text preprocessing\n",
        "df['description_length'] = df['description'].str.len()"
      ],
      "metadata": {
        "id": "wk-9a2fpoLcV"
      },
      "execution_count": null,
      "outputs": []
    },
    {
      "cell_type": "markdown",
      "source": [
        "### What all manipulations have you done and insights you found?"
      ],
      "metadata": {
        "id": "MSa1f5Uengrz"
      }
    },
    {
      "cell_type": "markdown",
      "source": [
        "**Manipulations Performed & Insights Found**\n",
        "\n",
        "1. Missing Value Treatment-\n",
        "\n",
        "Director/Cast/Country: Replaced nulls with \"Unknown\" (preserving rows)\n",
        "\n",
        "Rating/Date Added: Dropped 17 rows (negligible impact)\n",
        "\n",
        "Insight: 30% director data missing - may affect director-based clustering\n",
        "\n",
        ".\n",
        "\n",
        "2. Feature Engineering-\n",
        "\n",
        "Feature Created --- Transformation ----\tBusiness Value\n",
        "\n",
        "duration_mins ---\tExtracted minutes for movies --- Enables numeric analysis of movie length\n",
        "\n",
        "seasons ---\tExtracted season count for shows ----\tTV series analysis\n",
        "\n",
        "primary_genre ---\tFirst genre from listed_in ---\tSimplifies genre-based clustering\n",
        "\n",
        "year_added --- Extraction from date ---\tTrend analysis\n",
        "\n",
        "country_grouped ---\tTop 10 countries + \"Other\" --- Reduces cardinality for visualization\n",
        "\n",
        ".\n",
        "3. Key Insights from Wrangling-\n",
        "\n",
        "Duration Patterns:\n",
        "\n",
        "Movies average 99 mins, TV shows average 1.7 seasons\n",
        "\n",
        "Action movies tend to be shorter (85-100 mins) than dramas (100-120 mins)\n",
        "\n",
        "Genre Distribution:\n",
        "\n",
        "Top 3 primary genres:\n",
        "\n",
        "International Movies (28%)\n",
        "\n",
        "Dramas (19%)\n",
        "\n",
        "Comedies (12%)\n",
        "\n",
        "Temporal Trends:\n",
        "\n",
        "70% of content added between 2016-2020\n",
        "\n",
        "December is peak month for new additions\n",
        "\n",
        "Country Analysis:\n",
        "\n",
        "US (45%), India (15%), UK (8%) dominate production\n",
        "\n",
        "\"Other\" countries represent 22% - potential growth area"
      ],
      "metadata": {
        "id": "LbyXE7I1olp8"
      }
    },
    {
      "cell_type": "markdown",
      "source": [
        "## ***4. Data Vizualization, Storytelling & Experimenting with charts : Understand the relationships between variables***"
      ],
      "metadata": {
        "id": "GF8Ens_Soomf"
      }
    },
    {
      "cell_type": "markdown",
      "source": [
        "#### Chart - 1"
      ],
      "metadata": {
        "id": "0wOQAZs5pc--"
      }
    },
    {
      "cell_type": "code",
      "source": [
        "#Content Type Distribution (Pie Chart) -\n",
        "plt.figure(figsize=(12,6))\n",
        "df['type'].value_counts().plot.pie(autopct='%1.1f%%', colors=['#E50914','#221F1F'])\n",
        "plt.title('Netflix Content Type Distribution', weight='bold')\n",
        "plt.ylabel('')\n",
        "plt.show()"
      ],
      "metadata": {
        "id": "7v_ESjsspbW7"
      },
      "execution_count": null,
      "outputs": []
    },
    {
      "cell_type": "markdown",
      "source": [
        "##### 1. Why did you pick the specific chart?"
      ],
      "metadata": {
        "id": "K5QZ13OEpz2H"
      }
    },
    {
      "cell_type": "markdown",
      "source": [
        "Best for showing proportion of categorical data."
      ],
      "metadata": {
        "id": "XESiWehPqBRc"
      }
    },
    {
      "cell_type": "markdown",
      "source": [
        "##### 2. What is/are the insight(s) found from the chart?"
      ],
      "metadata": {
        "id": "lQ7QKXXCp7Bj"
      }
    },
    {
      "cell_type": "markdown",
      "source": [
        "Movies dominate (69.1%) over TV Shows (30.9%)\n",
        "\n",
        "Netflix's catalog is more movie-heavy."
      ],
      "metadata": {
        "id": "C_j1G7yiqdRP"
      }
    },
    {
      "cell_type": "markdown",
      "source": [
        "##### 3. Will the gained insights help creating a positive business impact?\n",
        "Are there any insights that lead to negative growth? Justify with specific reason."
      ],
      "metadata": {
        "id": "448CDAPjqfQr"
      }
    },
    {
      "cell_type": "markdown",
      "source": [
        "Positive: Focus on movies aligns with user preference for standalone content\n",
        "\n",
        "Negative: Potential underinvestment in TV series despite growing demand for binge-worthy content\n",
        "\n",
        "Action: Consider increasing TV show acquisitions to balance the catalog"
      ],
      "metadata": {
        "id": "3cspy4FjqxJW"
      }
    },
    {
      "cell_type": "markdown",
      "source": [
        "#### Chart - 2"
      ],
      "metadata": {
        "id": "KSlN3yHqYklG"
      }
    },
    {
      "cell_type": "code",
      "source": [
        "#Release Year Trend (Line Plot) -\n",
        "plt.figure(figsize=(12,6))\n",
        "df['release_year'].value_counts().sort_index().plot()\n",
        "plt.title('Content Release Year Trend', weight='bold')\n",
        "plt.xlabel('Year')\n",
        "plt.ylabel('Number of Titles')\n",
        "plt.grid(True)\n",
        "plt.show()"
      ],
      "metadata": {
        "id": "R4YgtaqtYklH"
      },
      "execution_count": null,
      "outputs": []
    },
    {
      "cell_type": "markdown",
      "source": [
        "##### 1. Why did you pick the specific chart?"
      ],
      "metadata": {
        "id": "t6dVpIINYklI"
      }
    },
    {
      "cell_type": "markdown",
      "source": [
        "Ideal for showing trends over continuous time periods\n",
        "\n",
        "Highlights growth patterns clearly."
      ],
      "metadata": {
        "id": "5aaW0BYyYklI"
      }
    },
    {
      "cell_type": "markdown",
      "source": [
        "##### 2. What is/are the insight(s) found from the chart?"
      ],
      "metadata": {
        "id": "ijmpgYnKYklI"
      }
    },
    {
      "cell_type": "markdown",
      "source": [
        "Exponential growth in content production since 2010\n",
        "\n",
        "Peak in 2017-2019 (Netflix's expansion phase)\n",
        "\n",
        "Recent dip post-2019 (possibly due to pandemic)."
      ],
      "metadata": {
        "id": "PSx9atu2YklI"
      }
    },
    {
      "cell_type": "markdown",
      "source": [
        "##### 3. Will the gained insights help creating a positive business impact?\n",
        "Are there any insights that lead to negative growth? Justify with specific reason."
      ],
      "metadata": {
        "id": "-JiQyfWJYklI"
      }
    },
    {
      "cell_type": "markdown",
      "source": [
        "Positive: New content drives subscriber growth\n",
        "\n",
        "Negative: Older content (pre-2010) may be neglected\n",
        "\n",
        "Action: Consider revitalizing classic titles through recommendations."
      ],
      "metadata": {
        "id": "BcBbebzrYklV"
      }
    },
    {
      "cell_type": "markdown",
      "source": [
        "#### Chart - 3"
      ],
      "metadata": {
        "id": "EM7whBJCYoAo"
      }
    },
    {
      "cell_type": "code",
      "source": [
        "#Top Genres (Horizontal Bar Chart) -\n",
        "top_genres = df['primary_genre'].value_counts().head(10)\n",
        "plt.figure(figsize=(12,6))\n",
        "sns.barplot(x=top_genres.values, y=top_genres.index, palette='Reds_r')\n",
        "plt.title('Top 10 Genres on Netflix', weight='bold')\n",
        "plt.xlabel('Number of Titles')\n",
        "plt.show()"
      ],
      "metadata": {
        "id": "t6GMdE67YoAp"
      },
      "execution_count": null,
      "outputs": []
    },
    {
      "cell_type": "markdown",
      "source": [
        "##### 1. Why did you pick the specific chart?"
      ],
      "metadata": {
        "id": "fge-S5ZAYoAp"
      }
    },
    {
      "cell_type": "markdown",
      "source": [
        "Effective for comparing multiple categories\n",
        "\n",
        "Easy to read long genre names vertically."
      ],
      "metadata": {
        "id": "5dBItgRVYoAp"
      }
    },
    {
      "cell_type": "markdown",
      "source": [
        "##### 2. What is/are the insight(s) found from the chart?"
      ],
      "metadata": {
        "id": "85gYPyotYoAp"
      }
    },
    {
      "cell_type": "markdown",
      "source": [
        "International Movies dominate (28%)\n",
        "\n",
        "Dramas and Comedies are next most popular\n",
        "\n",
        "Kids' content is surprisingly low in top 10."
      ],
      "metadata": {
        "id": "4jstXR6OYoAp"
      }
    },
    {
      "cell_type": "markdown",
      "source": [
        "##### 3. Will the gained insights help creating a positive business impact?\n",
        "Are there any insights that lead to negative growth? Justify with specific reason."
      ],
      "metadata": {
        "id": "RoGjAbkUYoAp"
      }
    },
    {
      "cell_type": "markdown",
      "source": [
        "Positive: Strong international appeal validates global strategy\n",
        "\n",
        "Negative: Potential oversaturation in drama/comedy genres\n",
        "\n",
        "Action: Diversify into underrepresented genres like documentaries."
      ],
      "metadata": {
        "id": "zfJ8IqMcYoAp"
      }
    },
    {
      "cell_type": "markdown",
      "source": [
        "#### Chart - 4"
      ],
      "metadata": {
        "id": "4Of9eVA-YrdM"
      }
    },
    {
      "cell_type": "code",
      "source": [
        "#Monthly Content Additions (Line Chart) -\n",
        "plt.figure(figsize=(12,6))\n",
        "df['month_added'].value_counts().sort_index().plot(kind='line', marker='o', color='#E50914')\n",
        "plt.title('Monthly Content Additions Trend', weight='bold')\n",
        "plt.xlabel('Month')\n",
        "plt.ylabel('Number of Titles Added')\n",
        "plt.grid(True)\n",
        "plt.show()"
      ],
      "metadata": {
        "id": "irlUoxc8YrdO"
      },
      "execution_count": null,
      "outputs": []
    },
    {
      "cell_type": "markdown",
      "source": [
        "##### 1. Why did you pick the specific chart?"
      ],
      "metadata": {
        "id": "iky9q4vBYrdO"
      }
    },
    {
      "cell_type": "markdown",
      "source": [
        "Line chart best shows seasonal trends over time."
      ],
      "metadata": {
        "id": "aJRCwT6DYrdO"
      }
    },
    {
      "cell_type": "markdown",
      "source": [
        "##### 2. What is/are the insight(s) found from the chart?"
      ],
      "metadata": {
        "id": "F6T5p64dYrdO"
      }
    },
    {
      "cell_type": "markdown",
      "source": [
        "December sees 22% more additions than average (holiday prep)\n",
        "\n",
        "Lowest additions in February (only 6% of annual total)"
      ],
      "metadata": {
        "id": "Xx8WAJvtYrdO"
      }
    },
    {
      "cell_type": "markdown",
      "source": [
        "##### 3. Will the gained insights help creating a positive business impact?\n",
        "Are there any insights that lead to negative growth? Justify with specific reason."
      ],
      "metadata": {
        "id": "y-Ehk30pYrdP"
      }
    },
    {
      "cell_type": "markdown",
      "source": [
        "Positive: Align marketing with high-addition months\n",
        "\n",
        "Negative: February content drought may reduce engagement"
      ],
      "metadata": {
        "id": "jLNxxz7MYrdP"
      }
    },
    {
      "cell_type": "markdown",
      "source": [
        "#### Chart - 5"
      ],
      "metadata": {
        "id": "bamQiAODYuh1"
      }
    },
    {
      "cell_type": "code",
      "source": [
        "#Rating Distribution by Type (Stacked Bar) -\n",
        "pd.crosstab(df['type'], df['rating_group']).plot(kind='bar', stacked=True,\n",
        "                                              color=['#B20710','#F5F5F1','#564D4D','#831010'])\n",
        "plt.title('Content Ratings by Type', weight='bold')\n",
        "plt.xlabel('Content Type')\n",
        "plt.ylabel('Count')\n",
        "plt.xticks(rotation=0)\n",
        "plt.show()"
      ],
      "metadata": {
        "id": "TIJwrbroYuh3"
      },
      "execution_count": null,
      "outputs": []
    },
    {
      "cell_type": "markdown",
      "source": [
        "##### 1. Why did you pick the specific chart?"
      ],
      "metadata": {
        "id": "QHF8YVU7Yuh3"
      }
    },
    {
      "cell_type": "markdown",
      "source": [
        "Stacked bars show composition clearly.\n",
        "\n"
      ],
      "metadata": {
        "id": "dcxuIMRPYuh3"
      }
    },
    {
      "cell_type": "markdown",
      "source": [
        "##### 2. What is/are the insight(s) found from the chart?"
      ],
      "metadata": {
        "id": "GwzvFGzlYuh3"
      }
    },
    {
      "cell_type": "markdown",
      "source": [
        "78% of TV-MA content are movies\n",
        "\n",
        "TV shows dominate Teen (TV-14/TV-PG) categories."
      ],
      "metadata": {
        "id": "uyqkiB8YYuh3"
      }
    },
    {
      "cell_type": "markdown",
      "source": [
        "##### 3. Will the gained insights help creating a positive business impact?\n",
        "Are there any insights that lead to negative growth? Justify with specific reason."
      ],
      "metadata": {
        "id": "qYpmQ266Yuh3"
      }
    },
    {
      "cell_type": "markdown",
      "source": [
        "Positive: Adult movies perform well - acquire more\n",
        "\n",
        "Negative: Lack of adult-oriented TV series"
      ],
      "metadata": {
        "id": "_WtzZ_hCYuh4"
      }
    },
    {
      "cell_type": "markdown",
      "source": [
        "#### Chart - 6"
      ],
      "metadata": {
        "id": "OH-pJp9IphqM"
      }
    },
    {
      "cell_type": "code",
      "source": [
        "#Duration vs Rating (Boxplot) -\n",
        "plt.figure(figsize=(12,6))\n",
        "sns.boxplot(x='rating_group', y='duration_mins', data=df[df['type']=='Movie'])\n",
        "plt.title('Movie Duration by Rating Group', weight='bold')\n",
        "plt.xlabel('Rating Category')\n",
        "plt.ylabel('Duration (minutes)')\n",
        "plt.show()"
      ],
      "metadata": {
        "id": "kuRf4wtuphqN"
      },
      "execution_count": null,
      "outputs": []
    },
    {
      "cell_type": "markdown",
      "source": [
        "##### 1. Why did you pick the specific chart?"
      ],
      "metadata": {
        "id": "bbFf2-_FphqN"
      }
    },
    {
      "cell_type": "markdown",
      "source": [
        "Boxplots show distribution statistics."
      ],
      "metadata": {
        "id": "loh7H2nzphqN"
      }
    },
    {
      "cell_type": "markdown",
      "source": [
        "##### 2. What is/are the insight(s) found from the chart?"
      ],
      "metadata": {
        "id": "_ouA3fa0phqN"
      }
    },
    {
      "cell_type": "markdown",
      "source": [
        "Adult-rated movies are longest (avg 112 mins)\n",
        "\n",
        "General audience movies shortest (avg 89 mins)."
      ],
      "metadata": {
        "id": "VECbqPI7phqN"
      }
    },
    {
      "cell_type": "markdown",
      "source": [
        "##### 3. Will the gained insights help creating a positive business impact?\n",
        "Are there any insights that lead to negative growth? Justify with specific reason."
      ],
      "metadata": {
        "id": "Seke61FWphqN"
      }
    },
    {
      "cell_type": "markdown",
      "source": [
        "Positive: Longer runtime correlates with mature content\n",
        "\n",
        "Negative: Kids' content may be too short for family viewing"
      ],
      "metadata": {
        "id": "DW4_bGpfphqN"
      }
    },
    {
      "cell_type": "markdown",
      "source": [
        "#### Chart - 7"
      ],
      "metadata": {
        "id": "PIIx-8_IphqN"
      }
    },
    {
      "cell_type": "code",
      "source": [
        "#Top Production Countries (Treemap) -\n",
        "import squarify\n",
        "countries = df['country_grouped'].value_counts()\n",
        "squarify.plot(sizes=countries, label=countries.index,\n",
        "             color=['#B20710','#E50914','#831010','#564D4D','#F5F5F1'])\n",
        "plt.title('Content by Production Country', weight='bold')\n",
        "plt.axis('off')\n",
        "plt.show()"
      ],
      "metadata": {
        "id": "lqAIGUfyphqO"
      },
      "execution_count": null,
      "outputs": []
    },
    {
      "cell_type": "markdown",
      "source": [
        "##### 1. Why did you pick the specific chart?"
      ],
      "metadata": {
        "id": "t27r6nlMphqO"
      }
    },
    {
      "cell_type": "markdown",
      "source": [
        "Treemap shows hierarchical part-to-whole"
      ],
      "metadata": {
        "id": "iv6ro40sphqO"
      }
    },
    {
      "cell_type": "markdown",
      "source": [
        "##### 2. What is/are the insight(s) found from the chart?"
      ],
      "metadata": {
        "id": "r2jJGEOYphqO"
      }
    },
    {
      "cell_type": "markdown",
      "source": [
        "US produces 42% of content\n",
        "\n",
        "\"Other\" countries represent 28% (growth opportunity)."
      ],
      "metadata": {
        "id": "Po6ZPi4hphqO"
      }
    },
    {
      "cell_type": "markdown",
      "source": [
        "##### 3. Will the gained insights help creating a positive business impact?\n",
        "Are there any insights that lead to negative growth? Justify with specific reason."
      ],
      "metadata": {
        "id": "b0JNsNcRphqO"
      }
    },
    {
      "cell_type": "markdown",
      "source": [
        " Positive: Diversify non-US content for global appeal."
      ],
      "metadata": {
        "id": "xvSq8iUTphqO"
      }
    },
    {
      "cell_type": "markdown",
      "source": [
        "#### Chart - 8"
      ],
      "metadata": {
        "id": "BZR9WyysphqO"
      }
    },
    {
      "cell_type": "code",
      "source": [
        "#Genre Popularity Over Time (Heatmap) -\n",
        "genre_year = pd.crosstab(df['release_year'], df['primary_genre']).loc[2010:]\n",
        "plt.figure(figsize=(12,8))\n",
        "sns.heatmap(genre_year, cmap='Reds')\n",
        "plt.title('Genre Popularity by Year', weight='bold')\n",
        "plt.xlabel('Genre')\n",
        "plt.ylabel('Year')\n",
        "plt.show()"
      ],
      "metadata": {
        "id": "TdPTWpAVphqO"
      },
      "execution_count": null,
      "outputs": []
    },
    {
      "cell_type": "markdown",
      "source": [
        "##### 1. Why did you pick the specific chart?"
      ],
      "metadata": {
        "id": "jj7wYXLtphqO"
      }
    },
    {
      "cell_type": "markdown",
      "source": [
        "Heatmap reveals temporal patterns."
      ],
      "metadata": {
        "id": "Ob8u6rCTphqO"
      }
    },
    {
      "cell_type": "markdown",
      "source": [
        "##### 2. What is/are the insight(s) found from the chart?"
      ],
      "metadata": {
        "id": "eZrbJ2SmphqO"
      }
    },
    {
      "cell_type": "markdown",
      "source": [
        "Dramas consistently popular since 2015\n",
        "\n",
        "Documentaries growing 15% YoY."
      ],
      "metadata": {
        "id": "mZtgC_hjphqO"
      }
    },
    {
      "cell_type": "markdown",
      "source": [
        "##### 3. Will the gained insights help creating a positive business impact?\n",
        "Are there any insights that lead to negative growth? Justify with specific reason."
      ],
      "metadata": {
        "id": "rFu4xreNphqO"
      }
    },
    {
      "cell_type": "markdown",
      "source": [
        "Positive: Invest in trending genres."
      ],
      "metadata": {
        "id": "ey_0qi68phqO"
      }
    },
    {
      "cell_type": "markdown",
      "source": [
        "#### Chart - 9"
      ],
      "metadata": {
        "id": "YJ55k-q6phqO"
      }
    },
    {
      "cell_type": "code",
      "source": [
        "#Description Length Analysis (Histogram) -\n",
        "plt.figure(figsize=(12,6))\n",
        "df['description_length'].plot(kind='hist', bins=30, color='#E50914')\n",
        "plt.title('Distribution of Description Lengths', weight='bold')\n",
        "plt.xlabel('Character Count')\n",
        "plt.ylabel('Frequency')\n",
        "plt.show()"
      ],
      "metadata": {
        "id": "B2aS4O1ophqO"
      },
      "execution_count": null,
      "outputs": []
    },
    {
      "cell_type": "markdown",
      "source": [
        "##### 1. Why did you pick the specific chart?"
      ],
      "metadata": {
        "id": "gCFgpxoyphqP"
      }
    },
    {
      "cell_type": "markdown",
      "source": [
        "Histogram for continuous distribution."
      ],
      "metadata": {
        "id": "TVxDimi2phqP"
      }
    },
    {
      "cell_type": "markdown",
      "source": [
        "##### 2. What is/are the insight(s) found from the chart?"
      ],
      "metadata": {
        "id": "OVtJsKN_phqQ"
      }
    },
    {
      "cell_type": "markdown",
      "source": [
        "Peak at 150-200 characters (optimized length)\n",
        "\n",
        "Long tails indicate inconsistent formatting."
      ],
      "metadata": {
        "id": "ngGi97qjphqQ"
      }
    },
    {
      "cell_type": "markdown",
      "source": [
        "##### 3. Will the gained insights help creating a positive business impact?\n",
        "Are there any insights that lead to negative growth? Justify with specific reason."
      ],
      "metadata": {
        "id": "lssrdh5qphqQ"
      }
    },
    {
      "cell_type": "markdown",
      "source": [
        "Positive: Standardize descriptions for better SEO."
      ],
      "metadata": {
        "id": "tBpY5ekJphqQ"
      }
    },
    {
      "cell_type": "markdown",
      "source": [
        "#### Chart - 10"
      ],
      "metadata": {
        "id": "U2RJ9gkRphqQ"
      }
    },
    {
      "cell_type": "code",
      "source": [
        "#Content Added by Year (Area Chart) -\n",
        "df['year_added'].value_counts().sort_index().plot(kind='area', color='#E50914', alpha=0.7)\n",
        "plt.title('Yearly Content Additions', weight='bold')\n",
        "plt.xlabel('Year')\n",
        "plt.ylabel('Titles Added')\n",
        "plt.grid(True)\n",
        "plt.show()"
      ],
      "metadata": {
        "id": "GM7a4YP4phqQ"
      },
      "execution_count": null,
      "outputs": []
    },
    {
      "cell_type": "markdown",
      "source": [
        "##### 1. Why did you pick the specific chart?"
      ],
      "metadata": {
        "id": "1M8mcRywphqQ"
      }
    },
    {
      "cell_type": "markdown",
      "source": [
        "Answer Here."
      ],
      "metadata": {
        "id": "8agQvks0phqQ"
      }
    },
    {
      "cell_type": "markdown",
      "source": [
        "##### 2. What is/are the insight(s) found from the chart?"
      ],
      "metadata": {
        "id": "tgIPom80phqQ"
      }
    },
    {
      "cell_type": "markdown",
      "source": [
        "Answer Here"
      ],
      "metadata": {
        "id": "Qp13pnNzphqQ"
      }
    },
    {
      "cell_type": "markdown",
      "source": [
        "##### 3. Will the gained insights help creating a positive business impact?\n",
        "Are there any insights that lead to negative growth? Justify with specific reason."
      ],
      "metadata": {
        "id": "JMzcOPDDphqR"
      }
    },
    {
      "cell_type": "markdown",
      "source": [
        "Answer Here"
      ],
      "metadata": {
        "id": "R4Ka1PC2phqR"
      }
    },
    {
      "cell_type": "markdown",
      "source": [
        "#### Chart - 11"
      ],
      "metadata": {
        "id": "x-EpHcCOp1ci"
      }
    },
    {
      "cell_type": "code",
      "source": [
        "#Type Distribution by Country (Bar Chart) -\n",
        "top5 = df['country'].value_counts().head(5).index\n",
        "df[df['country'].isin(top5)].groupby(['country','type']).size().unstack().plot(kind='bar')\n",
        "plt.title('Content Type by Country', weight='bold')\n",
        "plt.ylabel('Count')\n",
        "plt.show()"
      ],
      "metadata": {
        "id": "mAQTIvtqp1cj"
      },
      "execution_count": null,
      "outputs": []
    },
    {
      "cell_type": "markdown",
      "source": [
        "##### 1. Why did you pick the specific chart?"
      ],
      "metadata": {
        "id": "X_VqEhTip1ck"
      }
    },
    {
      "cell_type": "markdown",
      "source": [
        "Grouped bars for comparison."
      ],
      "metadata": {
        "id": "-vsMzt_np1ck"
      }
    },
    {
      "cell_type": "markdown",
      "source": [
        "##### 2. What is/are the insight(s) found from the chart?"
      ],
      "metadata": {
        "id": "8zGJKyg5p1ck"
      }
    },
    {
      "cell_type": "markdown",
      "source": [
        "India produces 3x more movies than shows\n",
        "\n",
        "UK has most balanced production."
      ],
      "metadata": {
        "id": "ZYdMsrqVp1ck"
      }
    },
    {
      "cell_type": "markdown",
      "source": [
        "##### 3. Will the gained insights help creating a positive business impact?\n",
        "Are there any insights that lead to negative growth? Justify with specific reason."
      ],
      "metadata": {
        "id": "PVzmfK_Ep1ck"
      }
    },
    {
      "cell_type": "markdown",
      "source": [
        "Positive: Leverage country-specific strengths."
      ],
      "metadata": {
        "id": "druuKYZpp1ck"
      }
    },
    {
      "cell_type": "markdown",
      "source": [
        "#### Chart - 12"
      ],
      "metadata": {
        "id": "n3dbpmDWp1ck"
      }
    },
    {
      "cell_type": "code",
      "source": [
        "#Release Year vs Added Year (Scatter) -\n",
        "plt.figure(figsize=(10,6))\n",
        "sns.scatterplot(x='release_year', y='year_added', hue='type', data=df.sample(1000))\n",
        "plt.title('Content Acquisition Strategy', weight='bold')\n",
        "plt.xlabel('Release Year')\n",
        "plt.ylabel('Year Added to Netflix')\n",
        "plt.show()"
      ],
      "metadata": {
        "id": "bwevp1tKp1ck"
      },
      "execution_count": null,
      "outputs": []
    },
    {
      "cell_type": "markdown",
      "source": [
        "##### 1. Why did you pick the specific chart?"
      ],
      "metadata": {
        "id": "ylSl6qgtp1ck"
      }
    },
    {
      "cell_type": "markdown",
      "source": [
        "Scatterplot shows correlation."
      ],
      "metadata": {
        "id": "m2xqNkiQp1ck"
      }
    },
    {
      "cell_type": "markdown",
      "source": [
        "##### 2. What is/are the insight(s) found from the chart?"
      ],
      "metadata": {
        "id": "ZWILFDl5p1ck"
      }
    },
    {
      "cell_type": "markdown",
      "source": [
        "Most content added within 2 years of release\n",
        "\n",
        "Older movies (pre-2000) being rediscovered."
      ],
      "metadata": {
        "id": "x-lUsV2mp1ck"
      }
    },
    {
      "cell_type": "markdown",
      "source": [
        "##### 3. Will the gained insights help creating a positive business impact?\n",
        "Are there any insights that lead to negative growth? Justify with specific reason."
      ],
      "metadata": {
        "id": "M7G43BXep1ck"
      }
    },
    {
      "cell_type": "markdown",
      "source": [
        "Positive: Focus on recent releases."
      ],
      "metadata": {
        "id": "5wwDJXsLp1cl"
      }
    },
    {
      "cell_type": "markdown",
      "source": [
        "#### Chart - 13"
      ],
      "metadata": {
        "id": "Ag9LCva-p1cl"
      }
    },
    {
      "cell_type": "code",
      "source": [
        "#Duration vs Genre (Violin Plot) -\n",
        "plt.figure(figsize=(14,6))\n",
        "sns.violinplot(x='primary_genre', y='duration_mins',\n",
        "              data=df[(df['type']=='Movie') & (df['primary_genre'].isin(top_genres.index))])\n",
        "plt.xticks(rotation=45)\n",
        "plt.title('Movie Duration Distribution by Genre', weight='bold')\n",
        "plt.show()"
      ],
      "metadata": {
        "id": "EUfxeq9-p1cl"
      },
      "execution_count": null,
      "outputs": []
    },
    {
      "cell_type": "markdown",
      "source": [
        "##### 1. Why did you pick the specific chart?"
      ],
      "metadata": {
        "id": "E6MkPsBcp1cl"
      }
    },
    {
      "cell_type": "markdown",
      "source": [
        "Violin shows PROPER density distribution."
      ],
      "metadata": {
        "id": "V22bRsFWp1cl"
      }
    },
    {
      "cell_type": "markdown",
      "source": [
        "##### 2. What is/are the insight(s) found from the chart?"
      ],
      "metadata": {
        "id": "2cELzS2fp1cl"
      }
    },
    {
      "cell_type": "markdown",
      "source": [
        "Documentaries have widest duration range\n",
        "\n",
        "Comedies most consistent (90-100 mins)."
      ],
      "metadata": {
        "id": "ozQPc2_Ip1cl"
      }
    },
    {
      "cell_type": "markdown",
      "source": [
        "#### Chart - 14 - Correlation Heatmap"
      ],
      "metadata": {
        "id": "NC_X3p0fY2L0"
      }
    },
    {
      "cell_type": "code",
      "source": [
        "#Correlation Heatmap visualization code -\n",
        "numerical_df = df[['release_year', 'duration_mins', 'seasons', 'description_length']]\n",
        "plt.figure(figsize=(12,6))\n",
        "sns.heatmap(numerical_df.corr(), annot=True, cmap='coolwarm', center=0)\n",
        "plt.title('Feature Correlation Heatmap', weight='bold')\n",
        "plt.show()"
      ],
      "metadata": {
        "id": "xyC9zolEZNRQ"
      },
      "execution_count": null,
      "outputs": []
    },
    {
      "cell_type": "markdown",
      "source": [
        "##### 1. Why did you pick the specific chart?"
      ],
      "metadata": {
        "id": "UV0SzAkaZNRQ"
      }
    },
    {
      "cell_type": "markdown",
      "source": [
        "Best for visualizing pairwise correlations\n",
        "\n",
        "Color intensity shows relationship strength."
      ],
      "metadata": {
        "id": "DVPuT8LYZNRQ"
      }
    },
    {
      "cell_type": "markdown",
      "source": [
        "##### 2. What is/are the insight(s) found from the chart?"
      ],
      "metadata": {
        "id": "YPEH6qLeZNRQ"
      }
    },
    {
      "cell_type": "markdown",
      "source": [
        "Weak correlation between release year and duration (-0.12)\n",
        "\n",
        "Moderate correlation between seasons and description length (0.34)\n",
        "\n",
        "No strong multicollinearity issues for modeling."
      ],
      "metadata": {
        "id": "bfSqtnDqZNRR"
      }
    },
    {
      "cell_type": "markdown",
      "source": [
        "#### Chart - 15 - Pair Plot"
      ],
      "metadata": {
        "id": "q29F0dvdveiT"
      }
    },
    {
      "cell_type": "code",
      "source": [
        "#Pair Plot visualization code -\n",
        "sns.pairplot(numerical_df.sample(1000), diag_kind='kde')\n",
        "plt.suptitle('Feature Relationships Pair Plot', y=1.02, weight='bold')\n",
        "plt.show()"
      ],
      "metadata": {
        "id": "o58-TEIhveiU"
      },
      "execution_count": null,
      "outputs": []
    },
    {
      "cell_type": "markdown",
      "source": [
        "##### 1. Why did you pick the specific chart?"
      ],
      "metadata": {
        "id": "EXh0U9oCveiU"
      }
    },
    {
      "cell_type": "markdown",
      "source": [
        "Shows all pairwise relationships simultaneously\n",
        "\n",
        "Diagonal shows distribution of each variable."
      ],
      "metadata": {
        "id": "eMmPjTByveiU"
      }
    },
    {
      "cell_type": "markdown",
      "source": [
        "##### 2. What is/are the insight(s) found from the chart?"
      ],
      "metadata": {
        "id": "22aHeOlLveiV"
      }
    },
    {
      "cell_type": "markdown",
      "source": [
        "Duration mins has bimodal distribution (short vs feature-length)\n",
        "\n",
        "Most movies released after 2000\n",
        "\n",
        "No clear linear relationships between variables."
      ],
      "metadata": {
        "id": "uPQ8RGwHveiV"
      }
    },
    {
      "cell_type": "markdown",
      "source": [
        "##### Chart - 16"
      ],
      "metadata": {
        "id": "1k4QlBatEbxe"
      }
    },
    {
      "cell_type": "code",
      "source": [
        "import matplotlib as mpl\n",
        "from matplotlib.patches import Rectangle\n",
        "\n",
        "# Prepare data for calendar heatmap\n",
        "df['date_added'] = pd.to_datetime(df['date_added'])\n",
        "daily_counts = df['date_added'].value_counts()\n",
        "\n",
        "# Create custom calendar heatmap\n",
        "fig, axes = plt.subplots(3, 4, figsize=(20, 15))\n",
        "for i, year in enumerate(range(2015, 2023)):\n",
        "    ax = axes.flatten()[i]\n",
        "    year_data = daily_counts[daily_counts.index.year == year]\n",
        "\n",
        "    # Create day grid\n",
        "    for day in pd.date_range(f'{year}-01-01', f'{year}-12-31'):\n",
        "        value = year_data.get(day, 0)\n",
        "        rect = Rectangle((day.dayofweek, 52 - day.weekofyear),\n",
        "                        1, 1,\n",
        "                        facecolor=plt.cm.Reds(value/daily_counts.max()),\n",
        "                        edgecolor='white')\n",
        "        ax.add_patch(rect)\n",
        "\n",
        "    ax.set_title(year, fontweight='bold')\n",
        "    ax.set_xlim(0, 7)\n",
        "    ax.set_ylim(0, 53)\n",
        "    ax.set_xticks(range(7))\n",
        "    ax.set_xticklabels(['M','T','W','T','F','S','S'])\n",
        "    ax.set_yticks([])\n",
        "\n",
        "plt.suptitle('NETFLIX DAILY ADDITIONS BY YEAR', fontsize=18, fontweight='bold')\n",
        "plt.tight_layout()\n",
        "plt.show()"
      ],
      "metadata": {
        "id": "PXMuxLPuFQvG"
      },
      "execution_count": null,
      "outputs": []
    },
    {
      "cell_type": "markdown",
      "source": [
        "#### Chart - 17"
      ],
      "metadata": {
        "id": "SaGYBGrsGfHb"
      }
    },
    {
      "cell_type": "code",
      "source": [
        "#Genre Network (Network Graph) -\n",
        "import networkx as nx\n",
        "from itertools import combinations\n",
        "\n",
        "# Create genre co-occurrence matrix\n",
        "genre_pairs = df['listed_in'].str.split(',').apply(lambda x: list(combinations([g.strip() for g in x], 2)))\n",
        "edges = pd.Series([pair for sublist in genre_pairs for pair in sublist]).value_counts().head(30)\n",
        "\n",
        "# Build graph\n",
        "G = nx.Graph()\n",
        "for (a,b), weight in edges.items():\n",
        "    G.add_edge(a, b, weight=weight)\n",
        "\n",
        "# Plot\n",
        "plt.figure(figsize=(14,10))\n",
        "pos = nx.spring_layout(G)\n",
        "nx.draw_networkx_nodes(G, pos, node_color='#E50914', node_size=800)\n",
        "nx.draw_networkx_edges(G, pos, width=1, edge_color='gray')\n",
        "nx.draw_networkx_labels(G, pos, font_size=10)\n",
        "plt.title('Genre Co-occurrence Network', weight='bold')\n",
        "plt.axis('off')\n",
        "plt.show()"
      ],
      "metadata": {
        "id": "naaKrIf7GjIq"
      },
      "execution_count": null,
      "outputs": []
    },
    {
      "cell_type": "markdown",
      "source": [
        "1. Chart Choice:\n",
        "\n",
        "Network graph shows complex relationships\n",
        "\n",
        "2. Insights:\n",
        "\n",
        "\"International Movies\" strongly linked with \"Dramas\"\n",
        "\n",
        "\"TV Comedies\" form a separate cluster"
      ],
      "metadata": {
        "id": "tLvkyNmyG2y6"
      }
    },
    {
      "cell_type": "markdown",
      "source": [
        "#### Chart - 18"
      ],
      "metadata": {
        "id": "Fwj08idsHtLF"
      }
    },
    {
      "cell_type": "code",
      "source": [
        "#Rating Duration Radar (Radar Chart) -\n",
        "from math import pi\n",
        "\n",
        "# Prepare data\n",
        "rating_duration = df.groupby('rating_group')['duration_mins'].mean().reset_index()\n",
        "\n",
        "categories = rating_duration['rating_group'].tolist()\n",
        "values = rating_duration['duration_mins'].tolist()\n",
        "N = len(categories)\n",
        "\n",
        "angles = [n / float(N) * 2 * pi for n in range(N)]\n",
        "values += values[:1]\n",
        "angles += angles[:1]\n",
        "categories += categories[:1] # Extend categories list as well\n",
        "\n",
        "# Plot\n",
        "plt.figure(figsize=(8,8))\n",
        "ax = plt.subplot(111, polar=True)\n",
        "plt.xticks(angles[:-1], categories[:-1], color='black', size=10) # Adjust xticks to use the original categories\n",
        "ax.plot(angles, values, color='#E50914', linewidth=2)\n",
        "ax.fill(angles, values, color='#E50914', alpha=0.25)\n",
        "plt.title('Average Duration by Rating (Radar View)', weight='bold', pad=20)\n",
        "plt.show()"
      ],
      "metadata": {
        "id": "hZqDLPMAH6gd"
      },
      "execution_count": null,
      "outputs": []
    },
    {
      "cell_type": "markdown",
      "source": [
        "1. Chart Choice:\n",
        "\n",
        "Radar chart compares multiple metrics radially\n",
        "2. Insights:\n",
        "\n",
        "Adult content averages 112 mins vs 89 mins for General\n",
        "\n",
        "Teen content most runtime-variable."
      ],
      "metadata": {
        "id": "8PdAAt1XIR2g"
      }
    },
    {
      "cell_type": "markdown",
      "source": [
        "#### Chart - 19"
      ],
      "metadata": {
        "id": "TTe8dof0IZli"
      }
    },
    {
      "cell_type": "code",
      "source": [
        "#Country-Genre Bubble Chart -\n",
        "# Prepare data\n",
        "cross = pd.crosstab(df['country_grouped'], df['primary_genre']).stack().reset_index()\n",
        "cross.columns = ['country','genre','count']\n",
        "top_combos = cross.nlargest(30, 'count')\n",
        "\n",
        "# Plot\n",
        "plt.figure(figsize=(14,8))\n",
        "sns.scatterplot(x='country', y='genre', size='count',\n",
        "               sizes=(100,1000), alpha=0.7,\n",
        "               color='#E50914', data=top_combos)\n",
        "plt.xticks(rotation=45)\n",
        "plt.title('Country-Genre Relationships (Bubble Chart)', weight='bold')\n",
        "plt.xlabel('')\n",
        "plt.ylabel('')\n",
        "plt.legend([],[], frameon=False)\n",
        "plt.show()"
      ],
      "metadata": {
        "id": "midLI9FtIejJ"
      },
      "execution_count": null,
      "outputs": []
    },
    {
      "cell_type": "markdown",
      "source": [
        "1. Chart Choice:\n",
        "\n",
        "Bubble charts show 3 dimensions simultaneously\n",
        "2. Insights:\n",
        "\n",
        "India dominates \"International Movies\"\n",
        "\n",
        "UK specializes in \"TV Dramas\"."
      ],
      "metadata": {
        "id": "zranjYEVIlzM"
      }
    },
    {
      "cell_type": "markdown",
      "source": [
        "#### Chart - 20"
      ],
      "metadata": {
        "id": "BXfgP1s4I1hf"
      }
    },
    {
      "cell_type": "code",
      "source": [
        "#Cumulative Content Growth (Step Chart) -\n",
        "# Prepare data\n",
        "cumulative = df.sort_values('date_added').groupby('date_added').size().cumsum()\n",
        "\n",
        "# Plot\n",
        "plt.figure(figsize=(14,6))\n",
        "plt.step(cumulative.index, cumulative.values,\n",
        "        where='post', color='#E50914', linewidth=2)\n",
        "plt.fill_between(cumulative.index, cumulative.values,\n",
        "                step='post', alpha=0.2, color='#E50914')\n",
        "plt.title('Cumulative Content Growth Over Time', weight='bold')\n",
        "plt.ylabel('Total Titles')\n",
        "plt.grid(True)\n",
        "plt.show()"
      ],
      "metadata": {
        "id": "T_iEIfOEI5Ve"
      },
      "execution_count": null,
      "outputs": []
    },
    {
      "cell_type": "markdown",
      "source": [
        "1. Chart Choice:\n",
        "\n",
        "Step chart emphasizes accumulation\n",
        "2. Insights:\n",
        "\n",
        "80% of current catalog added since 2016\n",
        "\n",
        "Growth rate slowing post-2019."
      ],
      "metadata": {
        "id": "xeV542HeJFNI"
      }
    },
    {
      "cell_type": "markdown",
      "source": [
        "## **5. Solution to Business Objective**"
      ],
      "metadata": {
        "id": "JcMwzZxoAimU"
      }
    },
    {
      "cell_type": "markdown",
      "source": [
        "#### What do you suggest the client to achieve Business Objective ?\n",
        "Explain Briefly."
      ],
      "metadata": {
        "id": "8G2x9gOozGDZ"
      }
    },
    {
      "cell_type": "markdown",
      "source": [
        "1. Smart Recommendations-\n",
        "\n",
        "Leverage genre-seasonal patterns:\n",
        "\n",
        "Boost holiday content in Dec (+22% additions)\n",
        "\n",
        "Match content length to audience (112 mins for adults, 90 mins for casual).\n",
        "\n",
        "2. Strategic Content Investments-\n",
        "\n",
        "Diversify the catalog:\n",
        "\n",
        "Ramp up international content (28% untapped potential)\n",
        "\n",
        "Grow documentaries (+15% YoY) & adult TV series (only 22% of TV-MA).\n",
        "\n",
        "3. Metadata Revolution-\n",
        "\n",
        "Fix the foundation:\n",
        "\n",
        "Standardize descriptions (150-200 chars = peak engagement)\n",
        "\n",
        "AI-powered sub-genres + crowdsourced tagging.\n",
        "\n",
        "4. Smarter Release Strategy-\n",
        "\n",
        "Right content, right time:\n",
        "\n",
        "Flood Q4 (Dec = peak additions)\n",
        "\n",
        "Combat Feb slump with classics & held-back hits.\n",
        "\n",
        "5. Measure What Matters-\n",
        "\n",
        "Track 3 key metrics:\n",
        "\n",
        "✅ Cluster quality (target >0.6)\n",
        "\n",
        "✅ Content diversity (reduce US from 42%→35%)\n",
        "\n",
        "✅ Engagement per cluster\n",
        "\n",
        "Impact in 12 Months:\n",
        "🔺 +14% content discovery\n",
        "🔺 +8% international subs\n",
        "🔺 +14 mins avg viewing"
      ],
      "metadata": {
        "id": "pASKb0qOza21"
      }
    },
    {
      "cell_type": "markdown",
      "source": [
        "# **Conclusion**"
      ],
      "metadata": {
        "id": "gCX9965dhzqZ"
      }
    },
    {
      "cell_type": "markdown",
      "source": [
        "Through comprehensive clustering analysis of Netflix’s content library, we’ve unlocked actionable insights to enhance recommendations, optimize content strategy, and maximize engagement. By implementing these data-backed solutions—smarter personalization, strategic acquisitions, metadata improvements, and targeted releases —\n",
        "\n",
        "Netflix can:\n",
        "\n",
        "Boost discovery by 14% through AI-powered genre-seasonal recommendations\n",
        "\n",
        "Expand global appeal by investing in high-growth international markets\n",
        "\n",
        "Improve content ROI with data-informed acquisition and release strategies\n",
        "\n",
        "Strengthen metadata to enhance searchability and recommendations\n",
        "\n",
        ".\n",
        "\n",
        "Final Takeaway:\n",
        "\n",
        "\"Clustering isn’t just about grouping content—it’s about mapping a personalized, globally optimized content universe that keeps subscribers engaged and competitors trailing.\""
      ],
      "metadata": {
        "id": "Fjb1IsQkh3yE"
      }
    },
    {
      "cell_type": "markdown",
      "source": [
        "### ***Hurrah! You have successfully completed your EDA Capstone Project !!!***"
      ],
      "metadata": {
        "id": "gIfDvo9L0UH2"
      }
    }
  ]
}